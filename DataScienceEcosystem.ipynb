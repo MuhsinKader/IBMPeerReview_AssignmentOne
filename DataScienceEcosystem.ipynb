{
 "cells": [
  {
   "cell_type": "markdown",
   "id": "5161340c-5efa-4207-a8e1-6c6dd33b416e",
   "metadata": {},
   "source": [
    "# Data Science Tools and Ecosystem"
   ]
  },
  {
   "cell_type": "markdown",
   "id": "50c31949-f0c8-4119-9afe-99a1788fd75b",
   "metadata": {},
   "source": [
    "### In this notebook, Data Science Tools and Ecosystem are summarized."
   ]
  },
  {
   "cell_type": "markdown",
   "id": "3eed52ae-051c-4aeb-be1d-f9bb317aaa9a",
   "metadata": {},
   "source": [
    "**Objectives:**\n",
    "\n",
    "- List popular languages for Data Science.\n",
    "- Identify commonly used libraries for Data Science.\n",
    "- Demonstrate how to create headers and lists in Markdown.\n",
    "- Create tables in Jupyter Notebook Markdown cells.\n",
    "- Understand key development tools used in Data Science.\n"
   ]
  },
  {
   "cell_type": "markdown",
   "id": "e47cded2-30a2-43b4-84c4-f23ad97e5586",
   "metadata": {},
   "source": [
    "#### Some of the popular languages that Data Scientists use are:"
   ]
  },
  {
   "cell_type": "markdown",
   "id": "cf2d32ef-3da3-42d2-a204-436a88b7b740",
   "metadata": {},
   "source": [
    "1. Python\n",
    "\n",
    "2. R\n",
    "\n",
    "3. SQL\n"
   ]
  },
  {
   "cell_type": "markdown",
   "id": "d6adc369-bf5e-4461-b70d-6bbad5106f2e",
   "metadata": {},
   "source": [
    "#### Some of the commonly used libraries used by Data Scientists include:\n",
    "\n",
    "1. Pandas\n",
    "2. NumPy\n",
    "3. Scikit-learn"
   ]
  },
  {
   "cell_type": "markdown",
   "id": "7d9caba3-e7e2-41e1-aaf7-de1da9e0a778",
   "metadata": {},
   "source": [
    "| Data Science Tools          |\n",
    "|-----------------------------|\n",
    "| Jupyter Notebook            |\n",
    "| RStudio                     |\n",
    "| Apache Zeppelin             |\n"
   ]
  },
  {
   "cell_type": "markdown",
   "id": "0087298d-a03d-4d6c-b1a1-876079ac3520",
   "metadata": {},
   "source": [
    "### Below are a few examples of evaluating arithmetic expressions in Python"
   ]
  },
  {
   "cell_type": "code",
   "execution_count": 2,
   "id": "72d98219-1e94-40e0-99c9-fdae63bad622",
   "metadata": {},
   "outputs": [
    {
     "data": {
      "text/plain": [
       "17"
      ]
     },
     "execution_count": 2,
     "metadata": {},
     "output_type": "execute_result"
    }
   ],
   "source": [
    "# This a simple arithmetic expression to mutiply then add integers\n",
    "(3*4)+5"
   ]
  },
  {
   "cell_type": "code",
   "execution_count": 6,
   "id": "8125af12-e9dd-40e1-a8d7-aa6fff769329",
   "metadata": {},
   "outputs": [
    {
     "data": {
      "text/plain": [
       "3.33"
      ]
     },
     "execution_count": 6,
     "metadata": {},
     "output_type": "execute_result"
    }
   ],
   "source": [
    "# This will convert 200 minutes to hours by diving by 60\n",
    "\n",
    "round(200/60,2)"
   ]
  },
  {
   "cell_type": "markdown",
   "id": "efd596ea-e0aa-4706-ae04-9a4552c0dd1e",
   "metadata": {},
   "source": [
    "## Author\n",
    "\n",
    "Muhsin Kader\n",
    "\n",
    "Author\n"
   ]
  },
  {
   "cell_type": "code",
   "execution_count": null,
   "id": "cb87a4d8-162d-4b2e-9745-75bef8730670",
   "metadata": {},
   "outputs": [],
   "source": []
  }
 ],
 "metadata": {
  "kernelspec": {
   "display_name": "Python 3 (ipykernel)",
   "language": "python",
   "name": "python3"
  },
  "language_info": {
   "codemirror_mode": {
    "name": "ipython",
    "version": 3
   },
   "file_extension": ".py",
   "mimetype": "text/x-python",
   "name": "python",
   "nbconvert_exporter": "python",
   "pygments_lexer": "ipython3",
   "version": "3.12.7"
  }
 },
 "nbformat": 4,
 "nbformat_minor": 5
}
